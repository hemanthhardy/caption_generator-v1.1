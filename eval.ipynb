{
 "cells": [
  {
   "cell_type": "code",
   "execution_count": null,
   "metadata": {},
   "outputs": [],
   "source": [
    "import numpy as np\n",
    "from numpy import array\n",
    "import pandas as pd\n",
    "import matplotlib.pyplot as plt\n",
    "%matplotlib inline\n",
    "import string\n",
    "import os\n",
    "from os import listdir\n",
    "from PIL import Image\n",
    "import glob\n",
    "from pickle import dump, load\n",
    "from time import time\n",
    "from keras.preprocessing import sequence\n",
    "from keras.models import Sequential\n",
    "from keras.layers import LSTM, Embedding, TimeDistributed, Dense, RepeatVector,\\\n",
    "                         Activation, Flatten, Reshape, concatenate, Dropout, BatchNormalization\n",
    "from keras.optimizers import Adam, RMSprop\n",
    "from keras.layers.wrappers import Bidirectional\n",
    "from keras.layers.merge import add\n",
    "from keras.applications.inception_v3 import InceptionV3\n",
    "from keras.preprocessing import image\n",
    "from keras.preprocessing.image import load_img\n",
    "from keras.preprocessing.image import img_to_array\n",
    "from keras.models import Model\n",
    "from keras import Input, layers\n",
    "from keras import optimizers\n",
    "from keras.applications.inception_v3 import preprocess_input\n",
    "from keras.preprocessing.text import Tokenizer\n",
    "from keras.preprocessing.sequence import pad_sequences\n",
    "from keras.utils import to_categorical\n",
    "from keras.applications import imagenet_utils\n",
    "from keras.models import load_model\n",
    "from nltk.translate.bleu_score import corpus_bleu\n",
    "from os import listdir"
   ]
  },
  {
   "cell_type": "code",
   "execution_count": null,
   "metadata": {},
   "outputs": [],
   "source": [
    "def load_doc(filename):\n",
    "    file = open(filename,'r')\n",
    "    text = file.read()\n",
    "    return text"
   ]
  },
  {
   "cell_type": "code",
   "execution_count": null,
   "metadata": {},
   "outputs": [],
   "source": [
    "# load a pre-defined list of photo identifiers\n",
    "def load_set(filename):\n",
    "    doc = load_doc(filename)\n",
    "    dataset = list()\n",
    "    # process line by line\n",
    "    for line in doc.split('\\n'):\n",
    "        # skip empty lines\n",
    "        if len(line) < 1:\n",
    "            continue\n",
    "        # get the image identifier\n",
    "        identifier = line.split('.')[0]\n",
    "        dataset.append(identifier)\n",
    "    return (dataset)"
   ]
  },
  {
   "cell_type": "code",
   "execution_count": null,
   "metadata": {},
   "outputs": [],
   "source": [
    "# load training dataset (6K)\n",
    "train_text_filename = 'Flickr8k_text/Flickr_8k.trainImages.txt'\n",
    "train = load_set(train_text_filename)\n",
    "print('Train-Dataset: %d' % len(train))"
   ]
  },
  {
   "cell_type": "code",
   "execution_count": null,
   "metadata": {},
   "outputs": [],
   "source": [
    "# load clean descriptions into memory\n",
    "def load_clean_descriptions(filename, dataset):\n",
    "    # load document\n",
    "    doc = load_doc(filename)\n",
    "    descriptions = dict()\n",
    "    for line in doc.split('\\n'):\n",
    "        # split line by white space\n",
    "        tokens = line.split()\n",
    "        # split id from description\n",
    "        image_id, image_desc = tokens[0], tokens[1:]\n",
    "        # skip images not in the set\n",
    "        if image_id in dataset:\n",
    "            # create list\n",
    "            if image_id not in descriptions:\n",
    "                descriptions[image_id] = list()\n",
    "            # wrap description in tokens\n",
    "            desc = 'startseq ' + ' '.join(image_desc) + ' endseq'\n",
    "            # store\n",
    "            descriptions[image_id].append(desc)\n",
    "    return descriptions\n",
    "\n",
    "# descriptions\n",
    "train_descriptions = load_clean_descriptions('descriptions.txt', train)\n",
    "print('Descriptions: train=%d' % len(train_descriptions))\n",
    "print('\\n','train_descriptions fromat:')\n",
    "print(train_descriptions)"
   ]
  },
  {
   "cell_type": "code",
   "execution_count": null,
   "metadata": {},
   "outputs": [],
   "source": [
    "model_weights_list=listdir('models/checks')\n",
    "print('total number of models: ',len(model_weights_list))\n",
    "dir ='models/checks/'\n",
    "for mod in listdir(dir):\n",
    "    dest = dir+'model-'+str(mod)[-16:]\n",
    "    src  = dir+ mod\n",
    "    print(src,'  -  ',dest)\n",
    "    os.rename(src,dest)"
   ]
  },
  {
   "cell_type": "code",
   "execution_count": null,
   "metadata": {},
   "outputs": [],
   "source": [
    "# sort the files\n",
    "all_weights=sorted(listdir('models/checks/'))\n",
    "print(all_weights)"
   ]
  },
  {
   "cell_type": "code",
   "execution_count": null,
   "metadata": {},
   "outputs": [],
   "source": []
  },
  {
   "cell_type": "code",
   "execution_count": null,
   "metadata": {},
   "outputs": [],
   "source": []
  },
  {
   "cell_type": "code",
   "execution_count": null,
   "metadata": {},
   "outputs": [],
   "source": []
  },
  {
   "cell_type": "code",
   "execution_count": null,
   "metadata": {},
   "outputs": [],
   "source": [
    "filename = 'Flickr8k_text/Flickr_8k.testImages.txt'\n",
    "test = load_set(filename)\n",
    "print('Dataset: %d' % len(test))"
   ]
  },
  {
   "cell_type": "code",
   "execution_count": null,
   "metadata": {},
   "outputs": [],
   "source": [
    "test_descriptions = load_clean_descriptions('descriptions.txt', test)\n",
    "print('Descriptions: test=%d' % len(test_descriptions))"
   ]
  },
  {
   "cell_type": "code",
   "execution_count": null,
   "metadata": {},
   "outputs": [],
   "source": [
    "def load_photo_features(filename, dataset):\n",
    "    # load all features\n",
    "    features = load(open(filename, 'rb'))\n",
    "    # filter features\n",
    "    return features"
   ]
  },
  {
   "cell_type": "code",
   "execution_count": null,
   "metadata": {},
   "outputs": [],
   "source": [
    "test_features = load_photo_features('encoded_test_images.pkl', test)\n",
    "print('Photos: test=%d' % len(test_features))"
   ]
  },
  {
   "cell_type": "code",
   "execution_count": null,
   "metadata": {},
   "outputs": [],
   "source": [
    "wordtoix= load(open('w2i.pkl','rb'))"
   ]
  },
  {
   "cell_type": "code",
   "execution_count": null,
   "metadata": {},
   "outputs": [],
   "source": [
    "ixtoword= load(open('i2w.pkl','rb'))"
   ]
  },
  {
   "cell_type": "code",
   "execution_count": null,
   "metadata": {},
   "outputs": [],
   "source": [
    "with open(\"encoded_test_images.pkl\", \"rb\") as encoded_pickle:\n",
    "    encoding_test = load(encoded_pickle)"
   ]
  },
  {
   "cell_type": "code",
   "execution_count": null,
   "metadata": {},
   "outputs": [],
   "source": [
    "def greedySearch(photo):\n",
    "    in_text = 'startseq'\n",
    "    for i in range(34):\n",
    "        sequence = [wordtoix[w] for w in in_text.split() if w in wordtoix]\n",
    "        sequence = pad_sequences([sequence], maxlen=34)\n",
    "        yhat = model.predict([photo,sequence], verbose=0)\n",
    "        yhat = np.argmax(yhat)\n",
    "        word = ixtoword[yhat]\n",
    "        in_text += ' ' + word\n",
    "        if word == 'endseq':\n",
    "            break\n",
    "    final = in_text.split()\n",
    "    final = final[1:-1]\n",
    "    final = ' '.join(final)\n",
    "    return final\n"
   ]
  },
  {
   "cell_type": "code",
   "execution_count": 18,
   "metadata": {},
   "outputs": [
    {
     "name": "stdout",
     "output_type": "stream",
     "text": [
      "model  1 / 10\n",
      "models/checks/model-val_loss3.358.h5\n",
      "1000BLEU -1:  0.46315976547754595\n",
      "BLEU -2:  0.2831855093554703\n",
      "BLEU -3:  0.19984684342867132\n",
      "BLEU -4:  0.0980603938952402\n",
      "Time taken for  1 th  model =  136.46433281898499 \n",
      "\n",
      "model  2 / 10\n",
      "models/checks/model-val_loss3.426.h5\n",
      "1000BLEU -1:  0.45851896072080583\n",
      "BLEU -2:  0.27909230846337985\n",
      "BLEU -3:  0.19629762283413715\n",
      "BLEU -4:  0.09799236090411483\n",
      "Time taken for  2 th  model =  97.31748485565186 \n",
      "\n",
      "model  3 / 10\n",
      "models/checks/model-val_loss3.258.h5\n",
      "1000BLEU -1:  0.47127029117936964\n",
      "BLEU -2:  0.291939895822121\n",
      "BLEU -3:  0.2079881334054854\n",
      "BLEU -4:  0.10443409158414901\n",
      "Time taken for  3 th  model =  93.72541332244873 \n",
      "\n",
      "model  4 / 10\n",
      "models/checks/model-val_loss3.715.h5\n",
      "1000BLEU -1:  0.4523303868251169\n",
      "BLEU -2:  0.2664006447027538\n",
      "BLEU -3:  0.17750205173560932\n",
      "BLEU -4:  0.08111046076372555\n",
      "Time taken for  4 th  model =  97.11067128181458 \n",
      "\n",
      "model  5 / 10\n",
      "models/checks/model-val_loss3.315.h5\n",
      "1000BLEU -1:  0.4605261779532613\n",
      "BLEU -2:  0.27969670324358925\n",
      "BLEU -3:  0.19665464917454956\n",
      "BLEU -4:  0.09811981512515851\n",
      "Time taken for  5 th  model =  95.54816508293152 \n",
      "\n",
      "model  6 / 10\n",
      "models/checks/model-val_loss3.261.h5\n",
      "1000BLEU -1:  0.46728834832871663\n",
      "BLEU -2:  0.2882546035073919\n",
      "BLEU -3:  0.20323994643784374\n",
      "BLEU -4:  0.10136108291678672\n",
      "Time taken for  6 th  model =  95.13433575630188 \n",
      "\n",
      "model  7 / 10\n",
      "models/checks/model-val_loss3.327.h5\n",
      "1000BLEU -1:  0.4603536213579709\n",
      "BLEU -2:  0.27843473626123655\n",
      "BLEU -3:  0.19511722740839013\n",
      "BLEU -4:  0.09706133991559984\n",
      "Time taken for  7 th  model =  97.15792417526245 \n",
      "\n",
      "model  8 / 10\n",
      "models/checks/model-val_loss3.267.h5\n",
      "1000BLEU -1:  0.4647512659229247\n",
      "BLEU -2:  0.2838425344997808\n",
      "BLEU -3:  0.2014943976375728\n",
      "BLEU -4:  0.10070007461008262\n",
      "Time taken for  8 th  model =  98.4929347038269 \n",
      "\n",
      "model  9 / 10\n",
      "models/checks/model-val_loss3.554.h5\n",
      "1000BLEU -1:  0.4449509092872028\n",
      "BLEU -2:  0.2657595227198483\n",
      "BLEU -3:  0.18208160182127656\n",
      "BLEU -4:  0.08445967168032342\n",
      "Time taken for  9 th  model =  109.69899892807007 \n",
      "\n",
      "model  10 / 10\n",
      "models/checks/model-val_loss3.277.h5\n",
      "1000BLEU -1:  0.4676148866641731\n",
      "BLEU -2:  0.29064165635020545\n",
      "BLEU -3:  0.20757763520297307\n",
      "BLEU -4:  0.1061489370451365\n",
      "Time taken for  10 th  model =  96.11998438835144 \n",
      "\n"
     ]
    }
   ],
   "source": [
    "# evaluate the skill of the model\n",
    "import sys\n",
    "def evaluate_mod(x, model, descriptions, photos, max_length):\n",
    "    actual, predicted = list(), list()\n",
    "    # step over the whole set\n",
    "    a=0\n",
    "    for key, desc_list in descriptions.items():\n",
    "        # generate description---------------------------------------------------------\n",
    "        a=a+1\n",
    "        sys.stdout.write('\\r'+str(a))\n",
    "        sys.stdout.flush()\n",
    "        re_key=key+'.jpg'\n",
    "        image = encoding_test[re_key].reshape((1,2048))\n",
    "        yhat=greedySearch(image)\n",
    "        \n",
    "        \n",
    "        # store actual and predicted------------------------------------------------------------\n",
    "        references = [d.split() for d in desc_list]\n",
    "        actual.append(references)\n",
    "        predicted.append(yhat.split())\n",
    "        \n",
    "    a = corpus_bleu(actual, predicted, weights=(1.0, 0, 0, 0))\n",
    "    b = corpus_bleu(actual, predicted, weights=(0.5, 0.5, 0, 0))\n",
    "    c = corpus_bleu(actual, predicted, weights=(0.3, 0.3, 0.3, 0))\n",
    "    d = corpus_bleu(actual, predicted, weights=(0.25, 0.25, 0.25, 0.25))\n",
    "    print('\\nBLEU -1: ',a)\n",
    "    print('BLEU -2: ',b)\n",
    "    print('BLEU -3: ',c)\n",
    "    print('BLEU -4: ',d)\n",
    "    \n",
    "\n",
    "    return ([a,b,c,d])\n",
    "\n",
    "a=0\n",
    "li=list()\n",
    "direc='models/checks'\n",
    "for modwei in listdir(direc)[:10]:\n",
    "    a=a+1\n",
    "    modwei='models/checks/'+modwei\n",
    "    model=load_model(modwei)\n",
    "    print('model ',a,'/',len(listdir(direc)[:10]))\n",
    "    print(modwei)\n",
    "    start = time()\n",
    "    li.append(evaluate_mod(str(a),model, test_descriptions, test_features, max_length=34))\n",
    "    print('Time taken for ',a,'th  model = ', time()-start,'\\n')"
   ]
  },
  {
   "cell_type": "code",
   "execution_count": 19,
   "metadata": {},
   "outputs": [],
   "source": [
    "with open('check_score.pkl','wb') as pik:\n",
    "    dump(li,pik)"
   ]
  },
  {
   "cell_type": "code",
   "execution_count": 20,
   "metadata": {},
   "outputs": [],
   "source": [
    "scores = load(open('check_score.pkl','rb'))\n",
    "y=scores"
   ]
  },
  {
   "cell_type": "code",
   "execution_count": 21,
   "metadata": {},
   "outputs": [],
   "source": [
    "y1=list()\n",
    "y2=list()\n",
    "y3=list()\n",
    "y4=list()\n",
    "for i in y:\n",
    "    y1.append(round(i[0],7)) \n",
    "    y2.append(round(i[1],7))\n",
    "    y3.append(round(i[2],7))\n",
    "    y4.append(round(i[3],7))"
   ]
  },
  {
   "cell_type": "code",
   "execution_count": 42,
   "metadata": {},
   "outputs": [
    {
     "data": {
      "image/png": "[encoded data removed]",
      "text/plain": [
       "<Figure size 720x720 with 1 Axes>"
      ]
     },
     "metadata": {},
     "output_type": "display_data"
    }
   ],
   "source": [
    "x=list(range(1,11))\n",
    "plt.style.use(\"ggplot\")\n",
    "fig= plt.figure(figsize=(10,10))\n",
    "plt.plot(x,y1,label='BLEU - 1')\n",
    "plt.plot(x,y2,label='BLEU - 2')\n",
    "plt.plot(x,y3,label='BLEU - 3')\n",
    "plt.plot(x,y4,label='BLEU - 4')\n",
    "plt.title('BLEU SCORE results')\n",
    "plt.xlabel('scores')\n",
    "plt.ylabel('models')\n",
    "plt.legend()\n",
    "plt.show()\n"
   ]
  },
  {
   "cell_type": "code",
   "execution_count": null,
   "metadata": {},
   "outputs": [],
   "source": []
  },
  {
   "cell_type": "code",
   "execution_count": null,
   "metadata": {},
   "outputs": [],
   "source": []
  },
  {
   "cell_type": "code",
   "execution_count": null,
   "metadata": {},
   "outputs": [],
   "source": [
    "# Additional model evaluation....."
   ]
  },
  {
   "cell_type": "code",
   "execution_count": 38,
   "metadata": {},
   "outputs": [],
   "source": [
    "# evaluate the skill of the model\n",
    "import sys\n",
    "def evaluate_mod(x, model, descriptions, photos, max_length):\n",
    "    actual, predicted = list(), list()\n",
    "    # step over the whole set\n",
    "    a=0\n",
    "    for key, desc_list in descriptions.items():\n",
    "        # generate description---------------------------------------------------------\n",
    "        a=a+1\n",
    "        sys.stdout.write('\\r'+str(a),)\n",
    "        sys.stdout.flush()\n",
    "        re_key=key+'.jpg'\n",
    "        image = encoding_test[re_key].reshape((1,2048))\n",
    "        yhat=greedySearch(image)\n",
    "        \n",
    "        \n",
    "        # store actual and predicted------------------------------------------------------------\n",
    "        references = [d.split() for d in desc_list]\n",
    "        actual.append(references)\n",
    "        predicted.append(yhat.split())\n",
    "        \n",
    "    a = corpus_bleu(actual, predicted, weights=(1.0, 0, 0, 0))\n",
    "    b = corpus_bleu(actual, predicted, weights=(0.5, 0.5, 0, 0))\n",
    "    c = corpus_bleu(actual, predicted, weights=(0.3, 0.3, 0.3, 0))\n",
    "    d = corpus_bleu(actual, predicted, weights=(0.25, 0.25, 0.25, 0.25))\n",
    "    print('\\nBLEU -1: ',a)\n",
    "    print('BLEU -2: ',b)\n",
    "    print('BLEU -3: ',c)\n",
    "    print('BLEU -4: ',d)\n",
    "    \n",
    "\n",
    "    return ([a,b,c,d])"
   ]
  },
  {
   "cell_type": "code",
   "execution_count": 35,
   "metadata": {},
   "outputs": [
    {
     "name": "stdout",
     "output_type": "stream",
     "text": [
      "helo\n",
      "1000BLEU -1:  0.4595922037212486\n",
      "BLEU -2:  0.2884743308869786\n",
      "BLEU -3:  0.2061109841147742\n",
      "BLEU -4:  0.10148361673021893\n"
     ]
    },
    {
     "data": {
      "text/plain": [
       "[0.4595922037212486,\n",
       " 0.2884743308869786,\n",
       " 0.2061109841147742,\n",
       " 0.10148361673021893]"
      ]
     },
     "execution_count": 35,
     "metadata": {},
     "output_type": "execute_result"
    }
   ],
   "source": [
    "model=load_model('models/mod_check/2.h5')\n",
    "evaluate_mod(str(a),model, test_descriptions, test_features, max_length=34)"
   ]
  },
  {
   "cell_type": "code",
   "execution_count": 39,
   "metadata": {},
   "outputs": [
    {
     "name": "stdout",
     "output_type": "stream",
     "text": [
      "1000\n",
      "BLEU -1:  0.4718570668236333\n",
      "BLEU -2:  0.2948534933631161\n",
      "BLEU -3:  0.2106061718498286\n",
      "BLEU -4:  0.10688448837642955\n"
     ]
    },
    {
     "data": {
      "text/plain": [
       "[0.4718570668236333,\n",
       " 0.2948534933631161,\n",
       " 0.2106061718498286,\n",
       " 0.10688448837642955]"
      ]
     },
     "execution_count": 39,
     "metadata": {},
     "output_type": "execute_result"
    }
   ],
   "source": [
    "model=load_model('models/mod_check/2.h5')\n",
    "model.load_weights('models/mod_check/1_wei.h5')\n",
    "evaluate_mod(str(a),model, test_descriptions, test_features, max_length=34)"
   ]
  },
  {
   "cell_type": "code",
   "execution_count": null,
   "metadata": {},
   "outputs": [],
   "source": []
  }
 ],
 "metadata": {
  "kernelspec": {
   "display_name": "Python 3",
   "language": "python",
   "name": "python3"
  },
  "language_info": {
   "codemirror_mode": {
    "name": "ipython",
    "version": 3
   },
   "file_extension": ".py",
   "mimetype": "text/x-python",
   "name": "python",
   "nbconvert_exporter": "python",
   "pygments_lexer": "ipython3",
   "version": "3.7.3"
  }
 },
 "nbformat": 4,
 "nbformat_minor": 2
}
